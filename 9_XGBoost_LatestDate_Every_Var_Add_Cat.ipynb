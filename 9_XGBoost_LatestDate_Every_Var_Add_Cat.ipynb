{
 "cells": [
  {
   "cell_type": "code",
   "execution_count": 44,
   "id": "fede5361",
   "metadata": {
    "ExecuteTime": {
     "end_time": "2022-08-25T02:10:02.353735Z",
     "start_time": "2022-08-25T02:10:02.349193Z"
    }
   },
   "outputs": [],
   "source": [
    "import pandas as pd\n",
    "from sklearn.preprocessing import LabelEncoder\n",
    "from sklearn.preprocessing import OneHotEncoder\n",
    "import numpy\n",
    "from numpy import loadtxt\n",
    "from xgboost import XGBClassifier\n",
    "from sklearn.model_selection import train_test_split\n",
    "from sklearn.metrics import accuracy_score\n",
    "import xgboost as xgb"
   ]
  },
  {
   "cell_type": "code",
   "execution_count": 2,
   "id": "13df7814",
   "metadata": {
    "ExecuteTime": {
     "end_time": "2022-08-25T01:42:32.510247Z",
     "start_time": "2022-08-25T01:42:25.074931Z"
    }
   },
   "outputs": [],
   "source": [
    "train_data = pd.read_feather(\"train_data.ftr\")"
   ]
  },
  {
   "cell_type": "code",
   "execution_count": 45,
   "id": "a25b3f29",
   "metadata": {
    "ExecuteTime": {
     "end_time": "2022-08-25T02:10:14.808885Z",
     "start_time": "2022-08-25T02:10:14.805652Z"
    }
   },
   "outputs": [],
   "source": [
    "train_data_2 = train_data"
   ]
  },
  {
   "cell_type": "code",
   "execution_count": 46,
   "id": "5f0cd9e5",
   "metadata": {
    "ExecuteTime": {
     "end_time": "2022-08-25T02:10:24.954353Z",
     "start_time": "2022-08-25T02:10:18.964050Z"
    }
   },
   "outputs": [
    {
     "data": {
      "text/html": [
       "<div>\n",
       "<style scoped>\n",
       "    .dataframe tbody tr th:only-of-type {\n",
       "        vertical-align: middle;\n",
       "    }\n",
       "\n",
       "    .dataframe tbody tr th {\n",
       "        vertical-align: top;\n",
       "    }\n",
       "\n",
       "    .dataframe thead th {\n",
       "        text-align: right;\n",
       "    }\n",
       "</style>\n",
       "<table border=\"1\" class=\"dataframe\">\n",
       "  <thead>\n",
       "    <tr style=\"text-align: right;\">\n",
       "      <th></th>\n",
       "      <th>customer_ID</th>\n",
       "      <th>S_2</th>\n",
       "      <th>P_2</th>\n",
       "      <th>D_39</th>\n",
       "      <th>B_1</th>\n",
       "      <th>B_2</th>\n",
       "      <th>R_1</th>\n",
       "      <th>S_3</th>\n",
       "      <th>D_41</th>\n",
       "      <th>B_3</th>\n",
       "      <th>...</th>\n",
       "      <th>D_136</th>\n",
       "      <th>D_137</th>\n",
       "      <th>D_138</th>\n",
       "      <th>D_139</th>\n",
       "      <th>D_140</th>\n",
       "      <th>D_141</th>\n",
       "      <th>D_142</th>\n",
       "      <th>D_143</th>\n",
       "      <th>D_144</th>\n",
       "      <th>D_145</th>\n",
       "    </tr>\n",
       "  </thead>\n",
       "  <tbody>\n",
       "    <tr>\n",
       "      <th>12</th>\n",
       "      <td>0000099d6bd597052cdcda90ffabf56573fe9d7c79be5f...</td>\n",
       "      <td>2018-03-13</td>\n",
       "      <td>0.934570</td>\n",
       "      <td>0.009117</td>\n",
       "      <td>0.009384</td>\n",
       "      <td>1.007812</td>\n",
       "      <td>0.006104</td>\n",
       "      <td>0.135010</td>\n",
       "      <td>0.001604</td>\n",
       "      <td>0.007175</td>\n",
       "      <td>...</td>\n",
       "      <td>NaN</td>\n",
       "      <td>NaN</td>\n",
       "      <td>NaN</td>\n",
       "      <td>0.007187</td>\n",
       "      <td>0.004234</td>\n",
       "      <td>0.005085</td>\n",
       "      <td>NaN</td>\n",
       "      <td>0.005810</td>\n",
       "      <td>0.002970</td>\n",
       "      <td>0.008530</td>\n",
       "    </tr>\n",
       "    <tr>\n",
       "      <th>11</th>\n",
       "      <td>0000099d6bd597052cdcda90ffabf56573fe9d7c79be5f...</td>\n",
       "      <td>2018-02-21</td>\n",
       "      <td>0.937500</td>\n",
       "      <td>0.002424</td>\n",
       "      <td>0.019836</td>\n",
       "      <td>1.008789</td>\n",
       "      <td>0.000607</td>\n",
       "      <td>0.102966</td>\n",
       "      <td>0.006172</td>\n",
       "      <td>0.007454</td>\n",
       "      <td>...</td>\n",
       "      <td>NaN</td>\n",
       "      <td>NaN</td>\n",
       "      <td>NaN</td>\n",
       "      <td>0.001563</td>\n",
       "      <td>0.001976</td>\n",
       "      <td>0.002569</td>\n",
       "      <td>NaN</td>\n",
       "      <td>0.001099</td>\n",
       "      <td>0.006348</td>\n",
       "      <td>0.004204</td>\n",
       "    </tr>\n",
       "    <tr>\n",
       "      <th>10</th>\n",
       "      <td>0000099d6bd597052cdcda90ffabf56573fe9d7c79be5f...</td>\n",
       "      <td>2018-01-11</td>\n",
       "      <td>0.909668</td>\n",
       "      <td>0.005714</td>\n",
       "      <td>0.002829</td>\n",
       "      <td>1.004883</td>\n",
       "      <td>0.008179</td>\n",
       "      <td>0.098877</td>\n",
       "      <td>0.001853</td>\n",
       "      <td>0.003239</td>\n",
       "      <td>...</td>\n",
       "      <td>NaN</td>\n",
       "      <td>NaN</td>\n",
       "      <td>NaN</td>\n",
       "      <td>0.000427</td>\n",
       "      <td>0.004593</td>\n",
       "      <td>0.003613</td>\n",
       "      <td>NaN</td>\n",
       "      <td>0.007568</td>\n",
       "      <td>0.003004</td>\n",
       "      <td>0.006363</td>\n",
       "    </tr>\n",
       "    <tr>\n",
       "      <th>9</th>\n",
       "      <td>0000099d6bd597052cdcda90ffabf56573fe9d7c79be5f...</td>\n",
       "      <td>2017-12-04</td>\n",
       "      <td>0.868652</td>\n",
       "      <td>0.001082</td>\n",
       "      <td>0.001930</td>\n",
       "      <td>1.007812</td>\n",
       "      <td>0.001772</td>\n",
       "      <td>0.100464</td>\n",
       "      <td>0.004627</td>\n",
       "      <td>0.006073</td>\n",
       "      <td>...</td>\n",
       "      <td>NaN</td>\n",
       "      <td>NaN</td>\n",
       "      <td>NaN</td>\n",
       "      <td>0.003611</td>\n",
       "      <td>0.009605</td>\n",
       "      <td>0.007267</td>\n",
       "      <td>NaN</td>\n",
       "      <td>0.008766</td>\n",
       "      <td>0.004753</td>\n",
       "      <td>0.009071</td>\n",
       "    </tr>\n",
       "    <tr>\n",
       "      <th>8</th>\n",
       "      <td>0000099d6bd597052cdcda90ffabf56573fe9d7c79be5f...</td>\n",
       "      <td>2017-11-20</td>\n",
       "      <td>0.950684</td>\n",
       "      <td>0.009895</td>\n",
       "      <td>0.016891</td>\n",
       "      <td>1.003906</td>\n",
       "      <td>0.001789</td>\n",
       "      <td>0.102783</td>\n",
       "      <td>0.002520</td>\n",
       "      <td>0.009819</td>\n",
       "      <td>...</td>\n",
       "      <td>NaN</td>\n",
       "      <td>NaN</td>\n",
       "      <td>NaN</td>\n",
       "      <td>0.009743</td>\n",
       "      <td>0.003967</td>\n",
       "      <td>0.007942</td>\n",
       "      <td>NaN</td>\n",
       "      <td>0.008720</td>\n",
       "      <td>0.004368</td>\n",
       "      <td>0.000996</td>\n",
       "    </tr>\n",
       "  </tbody>\n",
       "</table>\n",
       "<p>5 rows × 190 columns</p>\n",
       "</div>"
      ],
      "text/plain": [
       "                                          customer_ID         S_2       P_2  \\\n",
       "12  0000099d6bd597052cdcda90ffabf56573fe9d7c79be5f...  2018-03-13  0.934570   \n",
       "11  0000099d6bd597052cdcda90ffabf56573fe9d7c79be5f...  2018-02-21  0.937500   \n",
       "10  0000099d6bd597052cdcda90ffabf56573fe9d7c79be5f...  2018-01-11  0.909668   \n",
       "9   0000099d6bd597052cdcda90ffabf56573fe9d7c79be5f...  2017-12-04  0.868652   \n",
       "8   0000099d6bd597052cdcda90ffabf56573fe9d7c79be5f...  2017-11-20  0.950684   \n",
       "\n",
       "        D_39       B_1       B_2       R_1       S_3      D_41       B_3  ...  \\\n",
       "12  0.009117  0.009384  1.007812  0.006104  0.135010  0.001604  0.007175  ...   \n",
       "11  0.002424  0.019836  1.008789  0.000607  0.102966  0.006172  0.007454  ...   \n",
       "10  0.005714  0.002829  1.004883  0.008179  0.098877  0.001853  0.003239  ...   \n",
       "9   0.001082  0.001930  1.007812  0.001772  0.100464  0.004627  0.006073  ...   \n",
       "8   0.009895  0.016891  1.003906  0.001789  0.102783  0.002520  0.009819  ...   \n",
       "\n",
       "    D_136  D_137  D_138     D_139     D_140     D_141  D_142     D_143  \\\n",
       "12    NaN    NaN    NaN  0.007187  0.004234  0.005085    NaN  0.005810   \n",
       "11    NaN    NaN    NaN  0.001563  0.001976  0.002569    NaN  0.001099   \n",
       "10    NaN    NaN    NaN  0.000427  0.004593  0.003613    NaN  0.007568   \n",
       "9     NaN    NaN    NaN  0.003611  0.009605  0.007267    NaN  0.008766   \n",
       "8     NaN    NaN    NaN  0.009743  0.003967  0.007942    NaN  0.008720   \n",
       "\n",
       "       D_144     D_145  \n",
       "12  0.002970  0.008530  \n",
       "11  0.006348  0.004204  \n",
       "10  0.003004  0.006363  \n",
       "9   0.004753  0.009071  \n",
       "8   0.004368  0.000996  \n",
       "\n",
       "[5 rows x 190 columns]"
      ]
     },
     "execution_count": 46,
     "metadata": {},
     "output_type": "execute_result"
    }
   ],
   "source": [
    "train_data_3 = train_data_2.sort_values(['customer_ID', 'S_2'], ascending = [True, False])\n",
    "train_data_3.head()"
   ]
  },
  {
   "cell_type": "code",
   "execution_count": 6,
   "id": "35ab080f",
   "metadata": {
    "ExecuteTime": {
     "end_time": "2022-08-25T01:42:51.087945Z",
     "start_time": "2022-08-25T01:42:50.064986Z"
    }
   },
   "outputs": [
    {
     "data": {
      "text/html": [
       "<div>\n",
       "<style scoped>\n",
       "    .dataframe tbody tr th:only-of-type {\n",
       "        vertical-align: middle;\n",
       "    }\n",
       "\n",
       "    .dataframe tbody tr th {\n",
       "        vertical-align: top;\n",
       "    }\n",
       "\n",
       "    .dataframe thead th {\n",
       "        text-align: right;\n",
       "    }\n",
       "</style>\n",
       "<table border=\"1\" class=\"dataframe\">\n",
       "  <thead>\n",
       "    <tr style=\"text-align: right;\">\n",
       "      <th></th>\n",
       "      <th>customer_ID</th>\n",
       "      <th>S_2</th>\n",
       "      <th>P_2</th>\n",
       "      <th>D_39</th>\n",
       "      <th>B_1</th>\n",
       "      <th>B_2</th>\n",
       "      <th>R_1</th>\n",
       "      <th>S_3</th>\n",
       "      <th>D_41</th>\n",
       "      <th>B_3</th>\n",
       "      <th>...</th>\n",
       "      <th>D_136</th>\n",
       "      <th>D_137</th>\n",
       "      <th>D_138</th>\n",
       "      <th>D_139</th>\n",
       "      <th>D_140</th>\n",
       "      <th>D_141</th>\n",
       "      <th>D_142</th>\n",
       "      <th>D_143</th>\n",
       "      <th>D_144</th>\n",
       "      <th>D_145</th>\n",
       "    </tr>\n",
       "  </thead>\n",
       "  <tbody>\n",
       "    <tr>\n",
       "      <th>12</th>\n",
       "      <td>0000099d6bd597052cdcda90ffabf56573fe9d7c79be5f...</td>\n",
       "      <td>2018-03-13</td>\n",
       "      <td>0.934570</td>\n",
       "      <td>0.009117</td>\n",
       "      <td>0.009384</td>\n",
       "      <td>1.007812</td>\n",
       "      <td>0.006104</td>\n",
       "      <td>0.135010</td>\n",
       "      <td>0.001604</td>\n",
       "      <td>0.007175</td>\n",
       "      <td>...</td>\n",
       "      <td>NaN</td>\n",
       "      <td>NaN</td>\n",
       "      <td>NaN</td>\n",
       "      <td>0.007187</td>\n",
       "      <td>0.004234</td>\n",
       "      <td>0.005085</td>\n",
       "      <td>NaN</td>\n",
       "      <td>0.005810</td>\n",
       "      <td>0.002970</td>\n",
       "      <td>0.008530</td>\n",
       "    </tr>\n",
       "    <tr>\n",
       "      <th>25</th>\n",
       "      <td>00000fd6641609c6ece5454664794f0340ad84dddce9a2...</td>\n",
       "      <td>2018-03-25</td>\n",
       "      <td>0.880371</td>\n",
       "      <td>0.178101</td>\n",
       "      <td>0.034698</td>\n",
       "      <td>1.003906</td>\n",
       "      <td>0.006912</td>\n",
       "      <td>0.165527</td>\n",
       "      <td>0.005550</td>\n",
       "      <td>0.005070</td>\n",
       "      <td>...</td>\n",
       "      <td>NaN</td>\n",
       "      <td>NaN</td>\n",
       "      <td>NaN</td>\n",
       "      <td>0.002981</td>\n",
       "      <td>0.007481</td>\n",
       "      <td>0.007874</td>\n",
       "      <td>NaN</td>\n",
       "      <td>0.003284</td>\n",
       "      <td>0.003170</td>\n",
       "      <td>0.008514</td>\n",
       "    </tr>\n",
       "    <tr>\n",
       "      <th>38</th>\n",
       "      <td>00001b22f846c82c51f6e3958ccd81970162bae8b007e8...</td>\n",
       "      <td>2018-03-12</td>\n",
       "      <td>0.880859</td>\n",
       "      <td>0.009705</td>\n",
       "      <td>0.004284</td>\n",
       "      <td>0.812500</td>\n",
       "      <td>0.006451</td>\n",
       "      <td>NaN</td>\n",
       "      <td>0.003796</td>\n",
       "      <td>0.007195</td>\n",
       "      <td>...</td>\n",
       "      <td>NaN</td>\n",
       "      <td>NaN</td>\n",
       "      <td>NaN</td>\n",
       "      <td>0.007381</td>\n",
       "      <td>0.006622</td>\n",
       "      <td>0.000965</td>\n",
       "      <td>NaN</td>\n",
       "      <td>0.002201</td>\n",
       "      <td>0.000834</td>\n",
       "      <td>0.003445</td>\n",
       "    </tr>\n",
       "    <tr>\n",
       "      <th>51</th>\n",
       "      <td>000041bdba6ecadd89a52d11886e8eaaec9325906c9723...</td>\n",
       "      <td>2018-03-29</td>\n",
       "      <td>0.621582</td>\n",
       "      <td>0.001082</td>\n",
       "      <td>0.012566</td>\n",
       "      <td>1.005859</td>\n",
       "      <td>0.007828</td>\n",
       "      <td>0.287842</td>\n",
       "      <td>0.004532</td>\n",
       "      <td>0.009941</td>\n",
       "      <td>...</td>\n",
       "      <td>NaN</td>\n",
       "      <td>NaN</td>\n",
       "      <td>NaN</td>\n",
       "      <td>0.002705</td>\n",
       "      <td>0.006184</td>\n",
       "      <td>0.001899</td>\n",
       "      <td>NaN</td>\n",
       "      <td>0.008186</td>\n",
       "      <td>0.005558</td>\n",
       "      <td>0.002983</td>\n",
       "    </tr>\n",
       "    <tr>\n",
       "      <th>64</th>\n",
       "      <td>00007889e4fcd2614b6cbe7f8f3d2e5c728eca32d9eb8a...</td>\n",
       "      <td>2018-03-30</td>\n",
       "      <td>0.872070</td>\n",
       "      <td>0.005573</td>\n",
       "      <td>0.007679</td>\n",
       "      <td>0.815918</td>\n",
       "      <td>0.001247</td>\n",
       "      <td>NaN</td>\n",
       "      <td>0.000231</td>\n",
       "      <td>0.005527</td>\n",
       "      <td>...</td>\n",
       "      <td>NaN</td>\n",
       "      <td>NaN</td>\n",
       "      <td>NaN</td>\n",
       "      <td>0.002974</td>\n",
       "      <td>0.004162</td>\n",
       "      <td>0.005764</td>\n",
       "      <td>NaN</td>\n",
       "      <td>0.008156</td>\n",
       "      <td>0.006943</td>\n",
       "      <td>0.000905</td>\n",
       "    </tr>\n",
       "  </tbody>\n",
       "</table>\n",
       "<p>5 rows × 190 columns</p>\n",
       "</div>"
      ],
      "text/plain": [
       "                                          customer_ID         S_2       P_2  \\\n",
       "12  0000099d6bd597052cdcda90ffabf56573fe9d7c79be5f...  2018-03-13  0.934570   \n",
       "25  00000fd6641609c6ece5454664794f0340ad84dddce9a2...  2018-03-25  0.880371   \n",
       "38  00001b22f846c82c51f6e3958ccd81970162bae8b007e8...  2018-03-12  0.880859   \n",
       "51  000041bdba6ecadd89a52d11886e8eaaec9325906c9723...  2018-03-29  0.621582   \n",
       "64  00007889e4fcd2614b6cbe7f8f3d2e5c728eca32d9eb8a...  2018-03-30  0.872070   \n",
       "\n",
       "        D_39       B_1       B_2       R_1       S_3      D_41       B_3  ...  \\\n",
       "12  0.009117  0.009384  1.007812  0.006104  0.135010  0.001604  0.007175  ...   \n",
       "25  0.178101  0.034698  1.003906  0.006912  0.165527  0.005550  0.005070  ...   \n",
       "38  0.009705  0.004284  0.812500  0.006451       NaN  0.003796  0.007195  ...   \n",
       "51  0.001082  0.012566  1.005859  0.007828  0.287842  0.004532  0.009941  ...   \n",
       "64  0.005573  0.007679  0.815918  0.001247       NaN  0.000231  0.005527  ...   \n",
       "\n",
       "    D_136  D_137  D_138     D_139     D_140     D_141  D_142     D_143  \\\n",
       "12    NaN    NaN    NaN  0.007187  0.004234  0.005085    NaN  0.005810   \n",
       "25    NaN    NaN    NaN  0.002981  0.007481  0.007874    NaN  0.003284   \n",
       "38    NaN    NaN    NaN  0.007381  0.006622  0.000965    NaN  0.002201   \n",
       "51    NaN    NaN    NaN  0.002705  0.006184  0.001899    NaN  0.008186   \n",
       "64    NaN    NaN    NaN  0.002974  0.004162  0.005764    NaN  0.008156   \n",
       "\n",
       "       D_144     D_145  \n",
       "12  0.002970  0.008530  \n",
       "25  0.003170  0.008514  \n",
       "38  0.000834  0.003445  \n",
       "51  0.005558  0.002983  \n",
       "64  0.006943  0.000905  \n",
       "\n",
       "[5 rows x 190 columns]"
      ]
     },
     "execution_count": 6,
     "metadata": {},
     "output_type": "execute_result"
    }
   ],
   "source": [
    "train_data_4 = train_data_3.drop_duplicates(subset=[\"customer_ID\"], keep=\"first\")\n",
    "train_data_4.head()\n",
    "# train_data_4.shape"
   ]
  },
  {
   "cell_type": "code",
   "execution_count": 49,
   "id": "70791fbb",
   "metadata": {
    "ExecuteTime": {
     "end_time": "2022-08-25T02:10:33.884358Z",
     "start_time": "2022-08-25T02:10:33.470196Z"
    }
   },
   "outputs": [],
   "source": [
    "train_data_label = pd.read_csv(\"train_labels.csv\")\n",
    "# train_data_label.head()"
   ]
  },
  {
   "cell_type": "code",
   "execution_count": 50,
   "id": "3f24ec1b",
   "metadata": {
    "ExecuteTime": {
     "end_time": "2022-08-25T02:10:53.519984Z",
     "start_time": "2022-08-25T02:10:51.213067Z"
    }
   },
   "outputs": [],
   "source": [
    "train_data_final = pd.merge(train_data_4,train_data_label,how=\"left\",on=\"customer_ID\")"
   ]
  },
  {
   "cell_type": "code",
   "execution_count": 51,
   "id": "aee00ac5",
   "metadata": {
    "ExecuteTime": {
     "end_time": "2022-08-25T02:11:07.871440Z",
     "start_time": "2022-08-25T02:11:06.878880Z"
    }
   },
   "outputs": [
    {
     "name": "stdout",
     "output_type": "stream",
     "text": [
      "X shape: (458913, 50)\n",
      "[[0. 0. 1. ... 0. 0. 1.]\n",
      " [0. 1. 0. ... 0. 0. 1.]\n",
      " [0. 1. 0. ... 0. 0. 1.]\n",
      " ...\n",
      " [0. 1. 0. ... 0. 0. 1.]\n",
      " [0. 1. 0. ... 0. 0. 1.]\n",
      " [1. 0. 0. ... 0. 0. 1.]]\n"
     ]
    }
   ],
   "source": [
    "encoded_x = None\n",
    "\n",
    "cat_list = train_data_final[['D_63', 'D_64', 'D_66', 'D_68', 'B_30', 'B_38', 'D_114', 'D_116', 'D_117', 'D_120', 'D_126']]\n",
    "\n",
    "# print(cat_list.head())\n",
    "\n",
    "for i in range(0, cat_list.shape[1]):\n",
    "\n",
    "    label_encoder = LabelEncoder()\n",
    "    feature = label_encoder.fit_transform(cat_list.iloc[:,i])\n",
    "    feature = feature.reshape(cat_list.shape[0], 1)\n",
    "    onehot_encoder = OneHotEncoder(sparse=False, categories='auto')\n",
    "    feature = onehot_encoder.fit_transform(feature)\n",
    "    if encoded_x is None:\n",
    "        encoded_x = feature\n",
    "    else:\n",
    "        encoded_x = numpy.concatenate((encoded_x, feature), axis=1)\n",
    "    \n",
    "print(\"X shape:\", encoded_x.shape)\n",
    "print(encoded_x)"
   ]
  },
  {
   "cell_type": "code",
   "execution_count": 54,
   "id": "d271251d",
   "metadata": {
    "ExecuteTime": {
     "end_time": "2022-08-25T02:14:44.567430Z",
     "start_time": "2022-08-25T02:12:34.467676Z"
    }
   },
   "outputs": [
    {
     "name": "stderr",
     "output_type": "stream",
     "text": [
      "/opt/conda/lib/python3.8/site-packages/xgboost/sklearn.py:1146: UserWarning: The use of label encoder in XGBClassifier is deprecated and will be removed in a future release. To remove this warning, do the following: 1) Pass option use_label_encoder=False when constructing XGBClassifier object; and 2) Encode your labels (y) as integers starting with 0, i.e. 0, 1, 2, ..., [num_class - 1].\n",
      "  warnings.warn(label_encoder_deprecation_msg, UserWarning)\n",
      "/opt/conda/lib/python3.8/site-packages/sklearn/utils/validation.py:63: DataConversionWarning: A column-vector y was passed when a 1d array was expected. Please change the shape of y to (n_samples, ), for example using ravel().\n",
      "  return f(*args, **kwargs)\n"
     ]
    },
    {
     "name": "stdout",
     "output_type": "stream",
     "text": [
      "[22:12:40] WARNING: ../src/learner.cc:1095: Starting in XGBoost 1.3.0, the default evaluation metric used with the objective 'binary:logistic' was changed from 'error' to 'logloss'. Explicitly set eval_metric if you'd like to restore the old behavior.\n"
     ]
    },
    {
     "data": {
      "text/plain": [
       "XGBClassifier(base_score=0.5, booster='gbtree', colsample_bylevel=1,\n",
       "              colsample_bynode=1, colsample_bytree=1, gamma=0, gpu_id=-1,\n",
       "              importance_type='gain', interaction_constraints='',\n",
       "              learning_rate=0.300000012, max_delta_step=0, max_depth=6,\n",
       "              min_child_weight=1, missing=nan, monotone_constraints='()',\n",
       "              n_estimators=100, n_jobs=16, num_parallel_tree=1, random_state=0,\n",
       "              reg_alpha=0, reg_lambda=1, scale_pos_weight=1, subsample=1,\n",
       "              tree_method='exact', validate_parameters=1, verbosity=None)"
      ]
     },
     "execution_count": 54,
     "metadata": {},
     "output_type": "execute_result"
    }
   ],
   "source": [
    "X_train = train_data_final.drop(columns=['customer_ID', 'S_2', \"target\",'D_63', 'D_64', 'D_66', 'D_68', 'B_30', 'B_38', 'D_114', 'D_116', 'D_117', 'D_120', 'D_126'])\n",
    "X_train_final = numpy.concatenate((X_train, encoded_x), axis=1)\n",
    "\n",
    "y_train = train_data_final[[\"target\"]]\n",
    "\n",
    "model = XGBClassifier()\n",
    "model.fit(X_train_final, y_train)"
   ]
  },
  {
   "cell_type": "code",
   "execution_count": 55,
   "id": "98f4b3ed",
   "metadata": {
    "ExecuteTime": {
     "end_time": "2022-08-25T02:15:59.355023Z",
     "start_time": "2022-08-25T02:15:45.836679Z"
    }
   },
   "outputs": [],
   "source": [
    "test_data = pd.read_feather(\"test_data.ftr\")"
   ]
  },
  {
   "cell_type": "code",
   "execution_count": 58,
   "id": "fcd37c19",
   "metadata": {
    "ExecuteTime": {
     "end_time": "2022-08-25T02:22:03.452871Z",
     "start_time": "2022-08-25T02:21:38.280817Z"
    }
   },
   "outputs": [
    {
     "name": "stdout",
     "output_type": "stream",
     "text": [
      "X shape: (924621, 50)\n",
      "[[0. 0. 1. ... 0. 1. 0.]\n",
      " [0. 1. 0. ... 0. 0. 1.]\n",
      " [0. 0. 1. ... 0. 1. 0.]\n",
      " ...\n",
      " [0. 0. 1. ... 0. 0. 1.]\n",
      " [0. 1. 0. ... 0. 0. 1.]\n",
      " [0. 1. 0. ... 0. 0. 1.]]\n"
     ]
    }
   ],
   "source": [
    "test_data_1 = test_data.sort_values(['customer_ID', 'S_2'], ascending = [True, False])\n",
    "test_data_2 = test_data_1.drop_duplicates(subset=[\"customer_ID\"], keep=\"first\")\n",
    "\n",
    "encoded_x_test = None\n",
    "\n",
    "cat_list_test = test_data_2[['D_63', 'D_64', 'D_66', 'D_68', 'B_30', 'B_38', 'D_114', 'D_116', 'D_117', 'D_120', 'D_126']]\n",
    "\n",
    "# print(cat_list.head())\n",
    "\n",
    "for i in range(0, cat_list_test.shape[1]):\n",
    "\n",
    "    label_encoder = LabelEncoder()\n",
    "    feature_test = label_encoder.fit_transform(cat_list_test.iloc[:,i])\n",
    "    feature_test = feature_test.reshape(cat_list_test.shape[0], 1)\n",
    "    onehot_encoder = OneHotEncoder(sparse=False, categories='auto')\n",
    "    feature_test = onehot_encoder.fit_transform(feature_test)\n",
    "    if encoded_x_test is None:\n",
    "        encoded_x_test = feature_test\n",
    "    else:\n",
    "        encoded_x_test = numpy.concatenate((encoded_x_test, feature_test), axis=1)\n",
    "    \n",
    "print(\"X shape:\", encoded_x_test.shape)\n",
    "print(encoded_x_test)\n",
    "\n"
   ]
  },
  {
   "cell_type": "code",
   "execution_count": 61,
   "id": "eeb0a2ed",
   "metadata": {
    "ExecuteTime": {
     "end_time": "2022-08-25T02:23:36.210312Z",
     "start_time": "2022-08-25T02:23:28.031088Z"
    }
   },
   "outputs": [
    {
     "data": {
      "text/plain": [
       "array([[0.9456727 , 0.05432728],\n",
       "       [0.9986377 , 0.00136235],\n",
       "       [0.970567  , 0.02943303],\n",
       "       ...,\n",
       "       [0.41566467, 0.5843353 ],\n",
       "       [0.8667486 , 0.1332514 ],\n",
       "       [0.92571425, 0.07428574]], dtype=float32)"
      ]
     },
     "execution_count": 61,
     "metadata": {},
     "output_type": "execute_result"
    }
   ],
   "source": [
    "X_test = test_data_2.drop(columns=['customer_ID', 'S_2','D_63', 'D_64', 'D_66', 'D_68', 'B_30', 'B_38', 'D_114', 'D_116', 'D_117', 'D_120', 'D_126'])\n",
    "X_test_final = numpy.concatenate((X_test, encoded_x_test), axis=1)\n",
    "\n",
    "\n",
    "test_out_1 = model.predict_proba(X_test_final)\n",
    "test_out_1"
   ]
  },
  {
   "cell_type": "code",
   "execution_count": 62,
   "id": "8500d886",
   "metadata": {
    "ExecuteTime": {
     "end_time": "2022-08-25T02:23:41.033220Z",
     "start_time": "2022-08-25T02:23:41.015420Z"
    }
   },
   "outputs": [
    {
     "data": {
      "text/html": [
       "<div>\n",
       "<style scoped>\n",
       "    .dataframe tbody tr th:only-of-type {\n",
       "        vertical-align: middle;\n",
       "    }\n",
       "\n",
       "    .dataframe tbody tr th {\n",
       "        vertical-align: top;\n",
       "    }\n",
       "\n",
       "    .dataframe thead th {\n",
       "        text-align: right;\n",
       "    }\n",
       "</style>\n",
       "<table border=\"1\" class=\"dataframe\">\n",
       "  <thead>\n",
       "    <tr style=\"text-align: right;\">\n",
       "      <th></th>\n",
       "      <th>1_minus_pred</th>\n",
       "      <th>prediction</th>\n",
       "    </tr>\n",
       "  </thead>\n",
       "  <tbody>\n",
       "    <tr>\n",
       "      <th>0</th>\n",
       "      <td>0.945673</td>\n",
       "      <td>0.054327</td>\n",
       "    </tr>\n",
       "    <tr>\n",
       "      <th>1</th>\n",
       "      <td>0.998638</td>\n",
       "      <td>0.001362</td>\n",
       "    </tr>\n",
       "    <tr>\n",
       "      <th>2</th>\n",
       "      <td>0.970567</td>\n",
       "      <td>0.029433</td>\n",
       "    </tr>\n",
       "    <tr>\n",
       "      <th>3</th>\n",
       "      <td>0.729215</td>\n",
       "      <td>0.270785</td>\n",
       "    </tr>\n",
       "    <tr>\n",
       "      <th>4</th>\n",
       "      <td>0.063967</td>\n",
       "      <td>0.936033</td>\n",
       "    </tr>\n",
       "  </tbody>\n",
       "</table>\n",
       "</div>"
      ],
      "text/plain": [
       "   1_minus_pred  prediction\n",
       "0      0.945673    0.054327\n",
       "1      0.998638    0.001362\n",
       "2      0.970567    0.029433\n",
       "3      0.729215    0.270785\n",
       "4      0.063967    0.936033"
      ]
     },
     "execution_count": 62,
     "metadata": {},
     "output_type": "execute_result"
    }
   ],
   "source": [
    "test_out_2 = pd.DataFrame(test_out_1,columns=[\"1_minus_pred\",\"prediction\"])\n",
    "test_out_2.head()"
   ]
  },
  {
   "cell_type": "code",
   "execution_count": 21,
   "id": "57257077",
   "metadata": {},
   "outputs": [
    {
     "data": {
      "text/plain": [
       "(924621, 2)"
      ]
     },
     "execution_count": 21,
     "metadata": {},
     "output_type": "execute_result"
    }
   ],
   "source": [
    "X_test_2 = test_data_3[[\"customer_ID\"]]\n",
    "\n",
    "cus = X_test_2[\"customer_ID\"].reset_index()\n",
    "pred = test_out_2[\"prediction\"]\n",
    "\n",
    "test_out_3 = pd.concat([cus[\"customer_ID\"],pred],ignore_index=True,axis=1)\n",
    "test_out_3.rename(columns = {0:'customer_ID', 1:'prediction'}, inplace = True)\n",
    "\n",
    "test_out_3.shape"
   ]
  },
  {
   "cell_type": "code",
   "execution_count": 22,
   "id": "078d9c4f",
   "metadata": {},
   "outputs": [],
   "source": [
    "test_out_3.to_csv(\"Submission_XGboost_LatestDate_Every_Var.csv\", index=False)"
   ]
  },
  {
   "cell_type": "code",
   "execution_count": 23,
   "id": "24cc06c6",
   "metadata": {},
   "outputs": [
    {
     "name": "stdout",
     "output_type": "stream",
     "text": [
      "Warning: Your Kaggle API key is readable by other users on this system! To fix this, you can run 'chmod 600 /home/jovyan/.kaggle/kaggle.json'\n",
      "100%|██████████████████████████████████████| 67.6M/67.6M [00:04<00:00, 15.1MB/s]\n",
      "Successfully submitted to American Express - Default Prediction"
     ]
    }
   ],
   "source": [
    "!kaggle competitions submit -c amex-default-prediction -f Submission_XGboost_LatestDate_Every_Var.csv -m \"Message\""
   ]
  },
  {
   "cell_type": "code",
   "execution_count": null,
   "id": "f3da0a41",
   "metadata": {},
   "outputs": [],
   "source": []
  }
 ],
 "metadata": {
  "kernelspec": {
   "display_name": "Python 3",
   "language": "python",
   "name": "python3"
  },
  "language_info": {
   "codemirror_mode": {
    "name": "ipython",
    "version": 3
   },
   "file_extension": ".py",
   "mimetype": "text/x-python",
   "name": "python",
   "nbconvert_exporter": "python",
   "pygments_lexer": "ipython3",
   "version": "3.8.10"
  },
  "toc": {
   "base_numbering": 1,
   "nav_menu": {},
   "number_sections": false,
   "sideBar": true,
   "skip_h1_title": false,
   "title_cell": "Table of Contents",
   "title_sidebar": "Contents",
   "toc_cell": false,
   "toc_position": {},
   "toc_section_display": true,
   "toc_window_display": false
  }
 },
 "nbformat": 4,
 "nbformat_minor": 5
}
